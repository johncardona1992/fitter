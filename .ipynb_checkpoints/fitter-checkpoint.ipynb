{
 "cells": [
  {
   "cell_type": "code",
   "execution_count": 2,
   "metadata": {},
   "outputs": [
    {
     "data": {
      "text/plain": [
       "serie1    float64\n",
       "serie2    float64\n",
       "dtype: object"
      ]
     },
     "execution_count": 2,
     "metadata": {},
     "output_type": "execute_result"
    }
   ],
   "source": [
    "from fitter import Fitter\n",
    "import pandas as pd\n",
    "import numpy as np\n",
    "import os\n",
    "cwd = os.getcwd()\n",
    "path = cwd + '\\\\series.csv'\n",
    "df = pd.read_csv(path)\n",
    "df.dtypes"
   ]
  },
  {
   "cell_type": "markdown",
   "metadata": {},
   "source": [
    "## Outlier detection"
   ]
  },
  {
   "cell_type": "code",
   "execution_count": 3,
   "metadata": {},
   "outputs": [
    {
     "name": "stdout",
     "output_type": "stream",
     "text": [
      "2.4299999999999997\n"
     ]
    }
   ],
   "source": [
    "Q1 = df['serie1'].quantile(0.25)\n",
    "Q3 = df['serie1'].quantile(0.75)\n",
    "IQR = Q3 - Q1\n",
    "print(IQR)\n"
   ]
  },
  {
   "cell_type": "code",
   "execution_count": 4,
   "metadata": {},
   "outputs": [],
   "source": [
    "s = df[(df['serie1'] > (Q1 - 1.5 * IQR)) & (df['serie1'] < (Q3 + 1.5 * IQR))]\n",
    "s.describe()\n",
    "s1 = s.serie1\n",
    "s2 = s.serie2"
   ]
  },
  {
   "cell_type": "markdown",
   "metadata": {},
   "source": [
    "## Compare Distributions to fit Serie 1"
   ]
  },
  {
   "cell_type": "code",
   "execution_count": 5,
   "metadata": {},
   "outputs": [
    {
     "data": {
      "text/html": [
       "<div>\n",
       "<style scoped>\n",
       "    .dataframe tbody tr th:only-of-type {\n",
       "        vertical-align: middle;\n",
       "    }\n",
       "\n",
       "    .dataframe tbody tr th {\n",
       "        vertical-align: top;\n",
       "    }\n",
       "\n",
       "    .dataframe thead th {\n",
       "        text-align: right;\n",
       "    }\n",
       "</style>\n",
       "<table border=\"1\" class=\"dataframe\">\n",
       "  <thead>\n",
       "    <tr style=\"text-align: right;\">\n",
       "      <th></th>\n",
       "      <th>sumsquare_error</th>\n",
       "      <th>aic</th>\n",
       "      <th>bic</th>\n",
       "      <th>kl_div</th>\n",
       "    </tr>\n",
       "  </thead>\n",
       "  <tbody>\n",
       "    <tr>\n",
       "      <th>gamma</th>\n",
       "      <td>0.313730</td>\n",
       "      <td>547.864114</td>\n",
       "      <td>-6975.044111</td>\n",
       "      <td>inf</td>\n",
       "    </tr>\n",
       "    <tr>\n",
       "      <th>beta</th>\n",
       "      <td>0.371814</td>\n",
       "      <td>525.840663</td>\n",
       "      <td>-6818.614742</td>\n",
       "      <td>inf</td>\n",
       "    </tr>\n",
       "    <tr>\n",
       "      <th>lognorm</th>\n",
       "      <td>0.492732</td>\n",
       "      <td>552.926832</td>\n",
       "      <td>-6577.331190</td>\n",
       "      <td>inf</td>\n",
       "    </tr>\n",
       "    <tr>\n",
       "      <th>norm</th>\n",
       "      <td>2.665569</td>\n",
       "      <td>599.431377</td>\n",
       "      <td>-5096.801729</td>\n",
       "      <td>inf</td>\n",
       "    </tr>\n",
       "    <tr>\n",
       "      <th>uniform</th>\n",
       "      <td>3.934550</td>\n",
       "      <td>376.505708</td>\n",
       "      <td>-4753.759029</td>\n",
       "      <td>inf</td>\n",
       "    </tr>\n",
       "  </tbody>\n",
       "</table>\n",
       "</div>"
      ],
      "text/plain": [
       "         sumsquare_error         aic          bic  kl_div\n",
       "gamma           0.313730  547.864114 -6975.044111     inf\n",
       "beta            0.371814  525.840663 -6818.614742     inf\n",
       "lognorm         0.492732  552.926832 -6577.331190     inf\n",
       "norm            2.665569  599.431377 -5096.801729     inf\n",
       "uniform         3.934550  376.505708 -4753.759029     inf"
      ]
     },
     "execution_count": 5,
     "metadata": {},
     "output_type": "execute_result"
    },
    {
     "data": {
      "image/png": "[encoded data removed]",
      "text/plain": [
       "<Figure size 432x288 with 1 Axes>"
      ]
     },
     "metadata": {
      "needs_background": "light"
     },
     "output_type": "display_data"
    }
   ],
   "source": [
    "f = Fitter(s1, distributions=['gamma','lognorm','beta','norm', 'uniform'])\n",
    "f.fit()\n",
    "f.summary()\n"
   ]
  },
  {
   "cell_type": "markdown",
   "metadata": {},
   "source": [
    "## 1st place distribution is Gamma (alpha=0.881, beta =1.476)\n",
    "## 2nd place distribution is Beta (alpha=0.785, beta =5.418)\n",
    "## 3rd place distribution is Lognormal (mean=1.116, variance =0.841)"
   ]
  },
  {
   "cell_type": "code",
   "execution_count": 14,
   "metadata": {
    "scrolled": true
   },
   "outputs": [
    {
     "name": "stdout",
     "output_type": "stream",
     "text": [
      "norm (2.343405221339387, 1.4170027937590588)\n",
      "uniform (0.97, 6.44)\n",
      "lognorm (1.115725135491808, 0.9150938929975235, 0.8416781862848753)\n",
      "gamma (0.8806741442371147, 0.9699999999999999, 1.4757651279349657)\n",
      "beta (0.7850511012406556, 5.4583866113622275, 0.9699999999999999, 11.056943956652509)\n"
     ]
    }
   ],
   "source": [
    "d = f.fitted_param\n",
    "for key, value in d.items() :\n",
    "    print (key, value)\n"
   ]
  },
  {
   "cell_type": "markdown",
   "metadata": {},
   "source": [
    "## Compare Distributions to fit Serie 2"
   ]
  },
  {
   "cell_type": "code",
   "execution_count": 16,
   "metadata": {},
   "outputs": [
    {
     "data": {
      "text/html": [
       "<div>\n",
       "<style scoped>\n",
       "    .dataframe tbody tr th:only-of-type {\n",
       "        vertical-align: middle;\n",
       "    }\n",
       "\n",
       "    .dataframe tbody tr th {\n",
       "        vertical-align: top;\n",
       "    }\n",
       "\n",
       "    .dataframe thead th {\n",
       "        text-align: right;\n",
       "    }\n",
       "</style>\n",
       "<table border=\"1\" class=\"dataframe\">\n",
       "  <thead>\n",
       "    <tr style=\"text-align: right;\">\n",
       "      <th></th>\n",
       "      <th>sumsquare_error</th>\n",
       "      <th>aic</th>\n",
       "      <th>bic</th>\n",
       "      <th>kl_div</th>\n",
       "    </tr>\n",
       "  </thead>\n",
       "  <tbody>\n",
       "    <tr>\n",
       "      <th>uniform</th>\n",
       "      <td>44.726989</td>\n",
       "      <td>-19.978605</td>\n",
       "      <td>-2612.241236</td>\n",
       "      <td>inf</td>\n",
       "    </tr>\n",
       "    <tr>\n",
       "      <th>beta</th>\n",
       "      <td>45.692935</td>\n",
       "      <td>-15.695133</td>\n",
       "      <td>-2579.855144</td>\n",
       "      <td>inf</td>\n",
       "    </tr>\n",
       "    <tr>\n",
       "      <th>lognorm</th>\n",
       "      <td>55.811771</td>\n",
       "      <td>19.157611</td>\n",
       "      <td>-2410.399986</td>\n",
       "      <td>inf</td>\n",
       "    </tr>\n",
       "    <tr>\n",
       "      <th>gamma</th>\n",
       "      <td>56.062382</td>\n",
       "      <td>18.613066</td>\n",
       "      <td>-2406.452902</td>\n",
       "      <td>inf</td>\n",
       "    </tr>\n",
       "    <tr>\n",
       "      <th>norm</th>\n",
       "      <td>56.885743</td>\n",
       "      <td>16.383638</td>\n",
       "      <td>-2400.389229</td>\n",
       "      <td>inf</td>\n",
       "    </tr>\n",
       "  </tbody>\n",
       "</table>\n",
       "</div>"
      ],
      "text/plain": [
       "         sumsquare_error        aic          bic  kl_div\n",
       "uniform        44.726989 -19.978605 -2612.241236     inf\n",
       "beta           45.692935 -15.695133 -2579.855144     inf\n",
       "lognorm        55.811771  19.157611 -2410.399986     inf\n",
       "gamma          56.062382  18.613066 -2406.452902     inf\n",
       "norm           56.885743  16.383638 -2400.389229     inf"
      ]
     },
     "execution_count": 16,
     "metadata": {},
     "output_type": "execute_result"
    },
    {
     "data": {
      "image/png": "[encoded data removed]",
      "text/plain": [
       "<Figure size 432x288 with 1 Axes>"
      ]
     },
     "metadata": {
      "needs_background": "light"
     },
     "output_type": "display_data"
    }
   ],
   "source": [
    "f = Fitter(s2, distributions=['gamma','lognorm','beta','norm', 'uniform'])\n",
    "f.fit()\n",
    "f.summary()"
   ]
  },
  {
   "cell_type": "markdown",
   "metadata": {},
   "source": [
    "## 1st place distribution is Uniform (alpha=0.134, beta =0.887)\n",
    "## 2nd place distribution is Beta (alpha=0.979, beta =0.956)\n",
    "## 3nd place distribution is Lognormal  (mean=0.146, variance =1.695)"
   ]
  },
  {
   "cell_type": "code",
   "execution_count": 17,
   "metadata": {},
   "outputs": [
    {
     "name": "stdout",
     "output_type": "stream",
     "text": [
      "norm (0.5534383153564132, 0.24876616750393646)\n",
      "uniform (0.133603239, 0.8870153179999999)\n",
      "gamma (58.435592982448156, -1.346711209010691, 0.03248131187273587)\n",
      "lognorm (0.1460945246384966, -1.1591719677029557, 1.6945155599276784)\n",
      "beta (0.9786837027318982, 0.9562707435911183, 0.13311463086212494, 0.8875039261378751)\n"
     ]
    }
   ],
   "source": [
    "d = f.fitted_param\n",
    "for key, value in d.items() :\n",
    "    print (key, value)"
   ]
  }
 ],
 "metadata": {
  "interpreter": {
   "hash": "6f19fa3eeb00064ae903ffd6d93a947f581e6e1e473a1ab67cf495508d641c9a"
  },
  "kernelspec": {
   "display_name": "computerscience",
   "language": "python",
   "name": "computerscience"
  },
  "language_info": {
   "codemirror_mode": {
    "name": "ipython",
    "version": 3
   },
   "file_extension": ".py",
   "mimetype": "text/x-python",
   "name": "python",
   "nbconvert_exporter": "python",
   "pygments_lexer": "ipython3",
   "version": "3.9.6"
  }
 },
 "nbformat": 4,
 "nbformat_minor": 2
}
